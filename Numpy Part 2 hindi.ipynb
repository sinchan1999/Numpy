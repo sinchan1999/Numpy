{
 "cells": [
  {
   "cell_type": "markdown",
   "id": "1890f2f5-6c16-4566-96a3-380acb9259e6",
   "metadata": {},
   "source": [
    "## Array Manipulation."
   ]
  },
  {
   "cell_type": "code",
   "execution_count": 3,
   "id": "dba4df9f-2c20-4ce4-a433-ef64cad090d0",
   "metadata": {},
   "outputs": [],
   "source": [
    "import numpy as np"
   ]
  },
  {
   "cell_type": "code",
   "execution_count": 3,
   "id": "5632259c-dc2a-4f2a-9b61-7f383ea33a1b",
   "metadata": {},
   "outputs": [],
   "source": [
    "arr = np.random.randint(1,10 , (3,4))\n",
    "arr"
   ]
  },
  {
   "cell_type": "markdown",
   "id": "19fcaaf8",
   "metadata": {},
   "source": [
    "## reshape()"
   ]
  },
  {
   "cell_type": "code",
   "execution_count": 5,
   "id": "d55d33e1-985f-4070-97d2-8eacf70b2ff8",
   "metadata": {},
   "outputs": [
    {
     "data": {
      "text/plain": [
       "array([[4, 4],\n",
       "       [8, 6],\n",
       "       [8, 2],\n",
       "       [5, 8],\n",
       "       [5, 2],\n",
       "       [8, 9]])"
      ]
     },
     "execution_count": 5,
     "metadata": {},
     "output_type": "execute_result"
    }
   ],
   "source": [
    "arr.reshape(6,2)"
   ]
  },
  {
   "cell_type": "code",
   "execution_count": 6,
   "id": "09cb23cc-8b83-467b-827d-dfbfa8b634c3",
   "metadata": {},
   "outputs": [
    {
     "data": {
      "text/plain": [
       "array([[4, 4, 8, 6, 8, 2],\n",
       "       [5, 8, 5, 2, 8, 9]])"
      ]
     },
     "execution_count": 6,
     "metadata": {},
     "output_type": "execute_result"
    }
   ],
   "source": [
    "arr.reshape(2,6)"
   ]
  },
  {
   "cell_type": "code",
   "execution_count": 8,
   "id": "77eac4b6-d3c2-4a93-8c2f-bb711417539b",
   "metadata": {},
   "outputs": [
    {
     "data": {
      "text/plain": [
       "array([[4, 4, 8, 6, 8, 2],\n",
       "       [5, 8, 5, 2, 8, 9]])"
      ]
     },
     "execution_count": 8,
     "metadata": {},
     "output_type": "execute_result"
    }
   ],
   "source": [
    "arr.reshape(2,-242342)"
   ]
  },
  {
   "cell_type": "markdown",
   "id": "7a4c702b",
   "metadata": {},
   "source": [
    "## Transpose"
   ]
  },
  {
   "cell_type": "code",
   "execution_count": 10,
   "id": "43be7e8d-cc68-4191-baad-4bf94af48189",
   "metadata": {},
   "outputs": [
    {
     "data": {
      "text/plain": [
       "array([[4, 8, 5],\n",
       "       [4, 2, 2],\n",
       "       [8, 5, 8],\n",
       "       [6, 8, 9]])"
      ]
     },
     "execution_count": 10,
     "metadata": {},
     "output_type": "execute_result"
    }
   ],
   "source": [
    "arr.T\n",
    "arr"
   ]
  },
  {
   "cell_type": "markdown",
   "id": "d69fbef9",
   "metadata": {},
   "source": [
    "## flatten()\n",
    "\n",
    "The flatten() function in NumPy is used to convert a multi-dimensional array into a one-dimensional array. This is useful for various purposes, such as simplifying data manipulation or preparing data for algorithms that require a flat input.\n",
    "\n",
    "Key Points about flatten()\n",
    "Returns a New Array: flatten() returns a new array that is a copy of the original array, flattened into one dimension.\n",
    "Original Array Remains Unchanged: The original array is not modified by flatten()."
   ]
  },
  {
   "cell_type": "code",
   "execution_count": 12,
   "id": "2fd29656-e8be-431a-af9c-7dbaf4e39571",
   "metadata": {},
   "outputs": [
    {
     "data": {
      "text/plain": [
       "array([4, 4, 8, 6, 8, 2, 5, 8, 5, 2, 8, 9])"
      ]
     },
     "execution_count": 12,
     "metadata": {},
     "output_type": "execute_result"
    }
   ],
   "source": [
    "arr.flatten()"
   ]
  },
  {
   "cell_type": "markdown",
   "id": "85ad55da",
   "metadata": {},
   "source": [
    "## expand_dims()\n",
    "\n",
    "The numpy.expand_dims() function is used to add a new axis (or dimension) to an array, effectively increasing its dimensionality. This can be useful for various operations where you need to adjust the shape of an array to be compatible with certain functions or broadcasting rules.\n",
    "\n",
    "Key Points\n",
    "Inserts New Axes: The axis parameter specifies the position where the new axis will be inserted. If the array has shape (2, 3), and you use axis=0, the result will have shape (1, 2, 3).\n",
    "Array Shape Changes: The new dimension will be of size 1, which means it adds an additional axis without altering the data of the array.\n",
    "\n",
    "Compatible with Broadcasting: Expanding dimensions can help align array shapes for broadcasting and other operations."
   ]
  },
  {
   "cell_type": "code",
   "execution_count": 1,
   "id": "6f7862fc-ec30-47dc-bce8-b5101301205c",
   "metadata": {},
   "outputs": [
    {
     "ename": "NameError",
     "evalue": "name 'np' is not defined",
     "output_type": "error",
     "traceback": [
      "\u001b[1;31m---------------------------------------------------------------------------\u001b[0m",
      "\u001b[1;31mNameError\u001b[0m                                 Traceback (most recent call last)",
      "Cell \u001b[1;32mIn[1], line 1\u001b[0m\n\u001b[1;32m----> 1\u001b[0m arr1 \u001b[38;5;241m=\u001b[39m \u001b[43mnp\u001b[49m\u001b[38;5;241m.\u001b[39marray([\u001b[38;5;241m1\u001b[39m,\u001b[38;5;241m2\u001b[39m,\u001b[38;5;241m3\u001b[39m,\u001b[38;5;241m3\u001b[39m,\u001b[38;5;241m4\u001b[39m])\n\u001b[0;32m      2\u001b[0m arr1\u001b[38;5;241m.\u001b[39mndim\n",
      "\u001b[1;31mNameError\u001b[0m: name 'np' is not defined"
     ]
    }
   ],
   "source": [
    "arr1 = np.array([1,2,3,3,4])\n",
    "arr1.ndim"
   ]
  },
  {
   "cell_type": "code",
   "execution_count": 16,
   "id": "828fbacd-05dd-4ec7-9a9f-be474c13eff5",
   "metadata": {},
   "outputs": [
    {
     "data": {
      "text/plain": [
       "array([[1],\n",
       "       [2],\n",
       "       [3],\n",
       "       [3],\n",
       "       [4]])"
      ]
     },
     "execution_count": 16,
     "metadata": {},
     "output_type": "execute_result"
    }
   ],
   "source": [
    "np.expand_dims(arr1 ,axis=1)"
   ]
  },
  {
   "cell_type": "code",
   "execution_count": 17,
   "id": "581f2a02-7a94-46cf-ad50-89256379696e",
   "metadata": {},
   "outputs": [
    {
     "data": {
      "text/plain": [
       "array([[1, 2, 3, 3, 4]])"
      ]
     },
     "execution_count": 17,
     "metadata": {},
     "output_type": "execute_result"
    }
   ],
   "source": [
    "np.expand_dims(arr1 ,axis=0)"
   ]
  },
  {
   "cell_type": "code",
   "execution_count": 18,
   "id": "c5da4146-1911-4cb2-aed2-3adcb693bb51",
   "metadata": {},
   "outputs": [
    {
     "data": {
      "text/plain": [
       "array([[4, 4, 8, 6],\n",
       "       [8, 2, 5, 8],\n",
       "       [5, 2, 8, 9]])"
      ]
     },
     "execution_count": 18,
     "metadata": {},
     "output_type": "execute_result"
    }
   ],
   "source": [
    "arr"
   ]
  },
  {
   "cell_type": "markdown",
   "id": "0212a29d",
   "metadata": {},
   "source": [
    "## squeeze()\n",
    "\n",
    "The numpy.squeeze() function is used to remove single-dimensional entries from the shape of an array. This function is useful when you want to reduce the dimensionality of an array by removing axes that have a size of 1.\n",
    "\n",
    "Key Points:\n",
    "\n",
    "Remove Single-Dimensional Axes: By default, squeeze() removes all axes with a size of 1.\n",
    "\n",
    "Specify Axes: If you want to remove specific axes, you can provide them in the axis parameter as a tuple or a single integer.\n",
    "\n",
    "Shape Changes: The resulting array has the same data but with reduced dimensionality.\n",
    "\n",
    "** Overall, squeeze() is a handy function for reducing the dimensionality of arrays and simplifying array shapes in NumPy."
   ]
  },
  {
   "cell_type": "code",
   "execution_count": 19,
   "id": "cb422a7e-f8c2-4df6-b7e0-56dc63a7c116",
   "metadata": {},
   "outputs": [
    {
     "data": {
      "text/plain": [
       "array([[4, 4, 8, 6],\n",
       "       [8, 2, 5, 8],\n",
       "       [5, 2, 8, 9]])"
      ]
     },
     "execution_count": 19,
     "metadata": {},
     "output_type": "execute_result"
    }
   ],
   "source": [
    "np.squeeze(arr)"
   ]
  },
  {
   "cell_type": "code",
   "execution_count": 21,
   "id": "482a100e-261c-4a52-b7af-fc34c9dc8487",
   "metadata": {},
   "outputs": [],
   "source": [
    "data = np.array([[1] , [2] , [3]])\n",
    "data"
   ]
  },
  {
   "cell_type": "code",
   "execution_count": 23,
   "id": "927de255-bce2-4de3-9814-46ec3c7a4ef1",
   "metadata": {},
   "outputs": [
    {
     "data": {
      "text/plain": [
       "array([1, 2, 3])"
      ]
     },
     "execution_count": 23,
     "metadata": {},
     "output_type": "execute_result"
    }
   ],
   "source": [
    "np.squeeze(data)"
   ]
  },
  {
   "cell_type": "markdown",
   "id": "6706a0f9",
   "metadata": {},
   "source": [
    "####  Example 1: Removing All Single-Dimensional Axes\n"
   ]
  },
  {
   "cell_type": "code",
   "execution_count": 4,
   "id": "eeb60724",
   "metadata": {},
   "outputs": [
    {
     "name": "stdout",
     "output_type": "stream",
     "text": [
      "[[1 2 3]\n",
      " [4 5 6]]\n",
      "(2, 3)\n"
     ]
    }
   ],
   "source": [
    "# Create an array with shape (1, 2, 1, 3)\n",
    "array = np.array([[[[1, 2, 3]], [[4, 5, 6]]]])\n",
    "\n",
    "# Remove all single-dimensional axes\n",
    "squeezed_array = np.squeeze(array)\n",
    "\n",
    "print(squeezed_array)\n",
    "print(squeezed_array.shape)"
   ]
  },
  {
   "cell_type": "markdown",
   "id": "95114c9a",
   "metadata": {},
   "source": [
    "#### Example 2: Removing Specific Axes"
   ]
  },
  {
   "cell_type": "code",
   "execution_count": 5,
   "id": "251fe3dd",
   "metadata": {},
   "outputs": [
    {
     "name": "stdout",
     "output_type": "stream",
     "text": [
      "[[[1 2 3]]\n",
      "\n",
      " [[4 5 6]]]\n",
      "(2, 1, 3)\n"
     ]
    }
   ],
   "source": [
    "# Create an array with shape (1, 2, 1, 3)\n",
    "array = np.array([[[[1, 2, 3]], [[4, 5, 6]]]])\n",
    "\n",
    "# Remove specific single-dimensional axis\n",
    "squeezed_array = np.squeeze(array, axis=0)\n",
    "\n",
    "print(squeezed_array)\n",
    "print(squeezed_array.shape)"
   ]
  },
  {
   "cell_type": "markdown",
   "id": "d77d7e55",
   "metadata": {},
   "source": [
    "#### Example 3: Trying to Remove Non-Single-Dimensional Axes"
   ]
  },
  {
   "cell_type": "code",
   "execution_count": 6,
   "id": "4607d1af",
   "metadata": {},
   "outputs": [
    {
     "ename": "ValueError",
     "evalue": "cannot select an axis to squeeze out which has size not equal to one",
     "output_type": "error",
     "traceback": [
      "\u001b[1;31m---------------------------------------------------------------------------\u001b[0m",
      "\u001b[1;31mValueError\u001b[0m                                Traceback (most recent call last)",
      "Cell \u001b[1;32mIn[6], line 5\u001b[0m\n\u001b[0;32m      2\u001b[0m array \u001b[38;5;241m=\u001b[39m np\u001b[38;5;241m.\u001b[39marray([[[[\u001b[38;5;241m1\u001b[39m, \u001b[38;5;241m2\u001b[39m, \u001b[38;5;241m3\u001b[39m]], [[\u001b[38;5;241m4\u001b[39m, \u001b[38;5;241m5\u001b[39m, \u001b[38;5;241m6\u001b[39m]]]])\n\u001b[0;32m      4\u001b[0m \u001b[38;5;66;03m# Try to remove a non-single-dimensional axis\u001b[39;00m\n\u001b[1;32m----> 5\u001b[0m squeezed_array \u001b[38;5;241m=\u001b[39m \u001b[43mnp\u001b[49m\u001b[38;5;241;43m.\u001b[39;49m\u001b[43msqueeze\u001b[49m\u001b[43m(\u001b[49m\u001b[43marray\u001b[49m\u001b[43m,\u001b[49m\u001b[43m \u001b[49m\u001b[43maxis\u001b[49m\u001b[38;5;241;43m=\u001b[39;49m\u001b[38;5;241;43m1\u001b[39;49m\u001b[43m)\u001b[49m\n\u001b[0;32m      7\u001b[0m \u001b[38;5;28mprint\u001b[39m(squeezed_array)\n\u001b[0;32m      8\u001b[0m \u001b[38;5;28mprint\u001b[39m(squeezed_array\u001b[38;5;241m.\u001b[39mshape)\n",
      "File \u001b[1;32mc:\\Users\\sinch\\AppData\\Local\\Programs\\Python\\Python312\\Lib\\site-packages\\numpy\\_core\\fromnumeric.py:1632\u001b[0m, in \u001b[0;36msqueeze\u001b[1;34m(a, axis)\u001b[0m\n\u001b[0;32m   1630\u001b[0m     \u001b[38;5;28;01mreturn\u001b[39;00m squeeze()\n\u001b[0;32m   1631\u001b[0m \u001b[38;5;28;01melse\u001b[39;00m:\n\u001b[1;32m-> 1632\u001b[0m     \u001b[38;5;28;01mreturn\u001b[39;00m \u001b[43msqueeze\u001b[49m\u001b[43m(\u001b[49m\u001b[43maxis\u001b[49m\u001b[38;5;241;43m=\u001b[39;49m\u001b[43maxis\u001b[49m\u001b[43m)\u001b[49m\n",
      "\u001b[1;31mValueError\u001b[0m: cannot select an axis to squeeze out which has size not equal to one"
     ]
    }
   ],
   "source": [
    "# Create an array with shape (1, 2, 1, 3)\n",
    "array = np.array([[[[1, 2, 3]], [[4, 5, 6]]]])\n",
    "\n",
    "# Try to remove a non-single-dimensional axis\n",
    "squeezed_array = np.squeeze(array, axis=1)\n",
    "\n",
    "print(squeezed_array)\n",
    "print(squeezed_array.shape)"
   ]
  },
  {
   "cell_type": "markdown",
   "id": "727c8401",
   "metadata": {},
   "source": [
    "## repeat()\n",
    "\n",
    "The numpy.repeat() function is used to repeat elements of an array along a specified axis. It allows you to create a new array by repeating the elements of the original array a given number of times, either along a particular axis or for the entire array.\n",
    "\n",
    "numpy.repeat(a, repeats, axis=None)\n",
    "\n",
    "Key Points:\n",
    "\n",
    "Flattening Behavior: If axis is not specified, repeat() flattens the input array and then applies the repetition.\n",
    "\n",
    "Shape Compatibility: When specifying axis, the length of repeats should match the length of the array along that axis."
   ]
  },
  {
   "cell_type": "markdown",
   "id": "49e2a758",
   "metadata": {},
   "source": [
    "#### Example 1: Repeating Elements Without Specifying Axis"
   ]
  },
  {
   "cell_type": "code",
   "execution_count": 8,
   "id": "791c67b7-bafc-489f-8ff9-b27ace034515",
   "metadata": {},
   "outputs": [
    {
     "data": {
      "text/plain": [
       "array([1, 1, 1, 2, 2, 2, 3, 3, 3])"
      ]
     },
     "execution_count": 8,
     "metadata": {},
     "output_type": "execute_result"
    }
   ],
   "source": [
    "# Create an array\n",
    "array = np.array([1, 2, 3])\n",
    "\n",
    "# Repeat each element 3 times\n",
    "repeated_array = np.repeat(array, repeats=3)\n",
    "\n",
    "repeated_array"
   ]
  },
  {
   "cell_type": "markdown",
   "id": "ec9583bc",
   "metadata": {},
   "source": [
    "#### Example 2: Repeating Elements Along a Specific Axis\n",
    "Each row of the 2D array is repeated twice along the vertical axis (axis 0)"
   ]
  },
  {
   "cell_type": "code",
   "execution_count": 9,
   "id": "476bbac2",
   "metadata": {},
   "outputs": [
    {
     "data": {
      "text/plain": [
       "array([[1, 2],\n",
       "       [1, 2],\n",
       "       [3, 4],\n",
       "       [3, 4]])"
      ]
     },
     "execution_count": 9,
     "metadata": {},
     "output_type": "execute_result"
    }
   ],
   "source": [
    "# Create a 2D array\n",
    "array = np.array([[1, 2], [3, 4]])\n",
    "\n",
    "# Repeat elements along axis 0 (rows)\n",
    "repeated_array_axis0 = np.repeat(array, repeats=2, axis=0)\n",
    "\n",
    "repeated_array_axis0"
   ]
  },
  {
   "cell_type": "markdown",
   "id": "c54ffbe8",
   "metadata": {},
   "source": [
    "#### Example 3: Using Different Repeats for Each Element\n",
    "Here, the element 1 is repeated 1 time, 2 is repeated 2 times, and 3 is repeated 3 times"
   ]
  },
  {
   "cell_type": "code",
   "execution_count": 10,
   "id": "3bb81c0d",
   "metadata": {},
   "outputs": [
    {
     "data": {
      "text/plain": [
       "array([1, 2, 2, 3, 3, 3])"
      ]
     },
     "execution_count": 10,
     "metadata": {},
     "output_type": "execute_result"
    }
   ],
   "source": [
    "# Create a 1D array\n",
    "array = np.array([1, 2, 3])\n",
    "\n",
    "# Repeat each element a different number of times\n",
    "repeats = [1, 2, 3]\n",
    "repeated_array = np.repeat(array, repeats=repeats)\n",
    "\n",
    "repeated_array"
   ]
  },
  {
   "cell_type": "markdown",
   "id": "dc84a475",
   "metadata": {},
   "source": [
    "#### Example 4: Repeating Along Multiple Axes\n",
    "In this case, each column of the 2D array is repeated 3 times along the horizontal axis (axis 1)."
   ]
  },
  {
   "cell_type": "code",
   "execution_count": 11,
   "id": "d3ab1c67",
   "metadata": {},
   "outputs": [
    {
     "data": {
      "text/plain": [
       "array([[1, 1, 1, 2, 2, 2],\n",
       "       [3, 3, 3, 4, 4, 4]])"
      ]
     },
     "execution_count": 11,
     "metadata": {},
     "output_type": "execute_result"
    }
   ],
   "source": [
    "# Create a 2D array\n",
    "array = np.array([[1, 2], [3, 4]])\n",
    "\n",
    "# Repeat elements along axis 1 (columns)\n",
    "repeated_array_axis1 = np.repeat(array, repeats=3, axis=1)\n",
    "\n",
    "repeated_array_axis1"
   ]
  },
  {
   "cell_type": "markdown",
   "id": "9adec5c3",
   "metadata": {},
   "source": [
    "Use Cases\n",
    "\n",
    "Data Augmentation: Repeating elements can be useful in data augmentation scenarios, such as creating synthetic data.\n",
    "\n",
    "Array Manipulation: When preparing data for algorithms or visualizations, you might need to adjust the shape of arrays by repeating elements.\n",
    "\n",
    "Feature Engineering: Repeating values can be used in feature engineering to generate new features or modify existing ones.\n",
    "\n",
    "Overall, numpy.repeat() is a versatile function for manipulating array structures and creating new arrays with repeated elements."
   ]
  },
  {
   "cell_type": "markdown",
   "id": "7f7a1484",
   "metadata": {},
   "source": [
    "## roll()\n",
    "The numpy.repeat() function is used to repeat elements of an array along a specified axis. It allows you to create a new array by repeating the elements of the original array a given number of times, either along a particular axis or for the entire array.\n",
    "\n",
    "numpy.repeat(a, repeats, axis=None)\n",
    "\n",
    "Key Points\n",
    "\n",
    "Flattening Behavior: If axis is not specified, repeat() flattens the input array and then applies the repetition.\n",
    "\n",
    "Shape Compatibility: When specifying axis, the length of repeats should match the length of the array along that axis."
   ]
  },
  {
   "cell_type": "markdown",
   "id": "4b33be8b",
   "metadata": {},
   "source": [
    "#### Example 1: Rolling a 1D Array"
   ]
  },
  {
   "cell_type": "code",
   "execution_count": 15,
   "id": "8ae1cff3",
   "metadata": {},
   "outputs": [
    {
     "data": {
      "text/plain": [
       "array([1, 2, 3, 3, 4])"
      ]
     },
     "execution_count": 15,
     "metadata": {},
     "output_type": "execute_result"
    }
   ],
   "source": [
    "arr1 = np.array([1, 2, 3, 3, 4])\n",
    "arr1"
   ]
  },
  {
   "cell_type": "code",
   "execution_count": 14,
   "id": "4ed5803c-fcb2-4112-83dc-e4a7cf80051f",
   "metadata": {},
   "outputs": [
    {
     "data": {
      "text/plain": [
       "array([3, 3, 4, 1, 2])"
      ]
     },
     "execution_count": 14,
     "metadata": {},
     "output_type": "execute_result"
    }
   ],
   "source": [
    "np.roll(arr1 , 3)"
   ]
  },
  {
   "cell_type": "markdown",
   "id": "4a4c6e65",
   "metadata": {},
   "source": [
    "#### Example 2: Rolling a 2D Array Along One Axis\n",
    "In this example, each row is shifted down by 1 position. The last row wraps around to the top"
   ]
  },
  {
   "cell_type": "code",
   "execution_count": 22,
   "id": "09ef30e7",
   "metadata": {},
   "outputs": [
    {
     "data": {
      "text/plain": [
       "array([[1, 2, 3],\n",
       "       [4, 5, 6]])"
      ]
     },
     "execution_count": 22,
     "metadata": {},
     "output_type": "execute_result"
    }
   ],
   "source": [
    "# Create a 2D array\n",
    "array = np.array([[1, 2, 3], [4, 5, 6]])\n",
    "\n",
    "array"
   ]
  },
  {
   "cell_type": "code",
   "execution_count": 21,
   "id": "538f75c7",
   "metadata": {},
   "outputs": [
    {
     "data": {
      "text/plain": [
       "array([[4, 5, 6],\n",
       "       [1, 2, 3]])"
      ]
     },
     "execution_count": 21,
     "metadata": {},
     "output_type": "execute_result"
    }
   ],
   "source": [
    "# Roll the array by 1 position along axis 0 (rows)\n",
    "rolled_array_axis0 = np.roll(array, shift=1, axis=0)\n",
    "\n",
    "rolled_array_axis0"
   ]
  },
  {
   "cell_type": "markdown",
   "id": "a68cbe00",
   "metadata": {},
   "source": [
    "#### Example 3: Rolling a 2D Array Along Both Axes\n",
    "\n",
    "Here, the array is shifted down by 1 position along rows and right by 2 positions along columns."
   ]
  },
  {
   "cell_type": "code",
   "execution_count": 18,
   "id": "69033e6c",
   "metadata": {},
   "outputs": [
    {
     "data": {
      "text/plain": [
       "array([[1, 2, 3],\n",
       "       [4, 5, 6]])"
      ]
     },
     "execution_count": 18,
     "metadata": {},
     "output_type": "execute_result"
    }
   ],
   "source": [
    "# Create a 2D array\n",
    "array = np.array([[1, 2, 3], [4, 5, 6]])\n",
    "array"
   ]
  },
  {
   "cell_type": "code",
   "execution_count": 19,
   "id": "f0eeb06f",
   "metadata": {},
   "outputs": [
    {
     "data": {
      "text/plain": [
       "array([[5, 6, 4],\n",
       "       [2, 3, 1]])"
      ]
     },
     "execution_count": 19,
     "metadata": {},
     "output_type": "execute_result"
    }
   ],
   "source": [
    "# Roll the array by 1 position along axis 0 and 2 positions along axis 1\n",
    "rolled_array_both_axes = np.roll(array, shift=(1, 2), axis=(0, 1))\n",
    "\n",
    "rolled_array_both_axes"
   ]
  },
  {
   "cell_type": "markdown",
   "id": "d6b88b98",
   "metadata": {},
   "source": [
    "#### Example 4: Rolling a 3D Array\n",
    "\n",
    "In this case, the array is shifted along the first axis (depth) by 1 position. The last slice wraps around to the first position."
   ]
  },
  {
   "cell_type": "code",
   "execution_count": 23,
   "id": "42864453",
   "metadata": {},
   "outputs": [
    {
     "data": {
      "text/plain": [
       "array([[[1, 2],\n",
       "        [3, 4]],\n",
       "\n",
       "       [[5, 6],\n",
       "        [7, 8]]])"
      ]
     },
     "execution_count": 23,
     "metadata": {},
     "output_type": "execute_result"
    }
   ],
   "source": [
    "# Create a 3D array\n",
    "array = np.array([[[1, 2], [3, 4]], [[5, 6], [7, 8]]])\n",
    "array"
   ]
  },
  {
   "cell_type": "code",
   "execution_count": 24,
   "id": "606c33b2",
   "metadata": {},
   "outputs": [
    {
     "data": {
      "text/plain": [
       "array([[[5, 6],\n",
       "        [7, 8]],\n",
       "\n",
       "       [[1, 2],\n",
       "        [3, 4]]])"
      ]
     },
     "execution_count": 24,
     "metadata": {},
     "output_type": "execute_result"
    }
   ],
   "source": [
    "# Roll the array by 1 position along axis 0\n",
    "rolled_array_3d = np.roll(array, shift=1, axis=0)\n",
    "\n",
    "rolled_array_3d"
   ]
  },
  {
   "cell_type": "markdown",
   "id": "20bf1873",
   "metadata": {},
   "source": [
    "Use Cases\n",
    "\n",
    "Circular Buffer: Useful in scenarios where you need to implement circular buffers or rolling windows.\n",
    "\n",
    "Data Augmentation: In image processing or other tasks, you might use rolling to augment data or adjust input for certain algorithms.\n",
    "\n",
    "Simulations: Useful in simulations where you need to wrap around values, such as in periodic boundary conditions.\n",
    "\n",
    "Overall, numpy.roll() is a versatile function for shifting array elements along specified axes, allowing for various applications in data manipulation and processing."
   ]
  },
  {
   "cell_type": "markdown",
   "id": "d002b254",
   "metadata": {},
   "source": [
    "## diag()"
   ]
  },
  {
   "cell_type": "code",
   "execution_count": 30,
   "id": "9da0c1eb-9542-4359-8c82-1ae43e0d8d70",
   "metadata": {},
   "outputs": [
    {
     "data": {
      "text/plain": [
       "array([[1, 0, 0, 0, 0],\n",
       "       [0, 2, 0, 0, 0],\n",
       "       [0, 0, 3, 0, 0],\n",
       "       [0, 0, 0, 3, 0],\n",
       "       [0, 0, 0, 0, 4]])"
      ]
     },
     "execution_count": 30,
     "metadata": {},
     "output_type": "execute_result"
    }
   ],
   "source": [
    "np.diag(arr1)"
   ]
  },
  {
   "cell_type": "markdown",
   "id": "087bc54f-ac68-4e4e-80a6-b90971b1efc7",
   "metadata": {},
   "source": [
    "# Binary Operators."
   ]
  },
  {
   "cell_type": "code",
   "execution_count": 27,
   "id": "4743e781-a032-4b5c-97f9-6790a1475387",
   "metadata": {},
   "outputs": [],
   "source": [
    "arr1 = np.random.randint(1,10 , (3,4))\n",
    "arr2 = np.random.randint(1,10 , (3,4))"
   ]
  },
  {
   "cell_type": "code",
   "execution_count": 28,
   "id": "f365ba96-128e-4d6d-939d-ead1d78b2218",
   "metadata": {},
   "outputs": [
    {
     "data": {
      "text/plain": [
       "array([[8, 8, 7, 1],\n",
       "       [8, 5, 9, 1],\n",
       "       [4, 8, 3, 6]], dtype=int32)"
      ]
     },
     "execution_count": 28,
     "metadata": {},
     "output_type": "execute_result"
    }
   ],
   "source": [
    "arr1"
   ]
  },
  {
   "cell_type": "code",
   "execution_count": 29,
   "id": "bb34436b-4a9d-4eaa-909c-507052b60928",
   "metadata": {},
   "outputs": [
    {
     "data": {
      "text/plain": [
       "array([[9, 1, 4, 8],\n",
       "       [6, 6, 6, 2],\n",
       "       [5, 6, 1, 2]], dtype=int32)"
      ]
     },
     "execution_count": 29,
     "metadata": {},
     "output_type": "execute_result"
    }
   ],
   "source": [
    "arr2"
   ]
  },
  {
   "cell_type": "code",
   "execution_count": 30,
   "id": "2aaa971a-c8b8-4389-bcce-e5ac95233df2",
   "metadata": {},
   "outputs": [
    {
     "data": {
      "text/plain": [
       "array([[17,  9, 11,  9],\n",
       "       [14, 11, 15,  3],\n",
       "       [ 9, 14,  4,  8]], dtype=int32)"
      ]
     },
     "execution_count": 30,
     "metadata": {},
     "output_type": "execute_result"
    }
   ],
   "source": [
    "arr1+arr2"
   ]
  },
  {
   "cell_type": "code",
   "execution_count": 31,
   "id": "64bf4340-0f54-4c1b-92a4-25258f707440",
   "metadata": {},
   "outputs": [
    {
     "data": {
      "text/plain": [
       "array([[72,  8, 28,  8],\n",
       "       [48, 30, 54,  2],\n",
       "       [20, 48,  3, 12]], dtype=int32)"
      ]
     },
     "execution_count": 31,
     "metadata": {},
     "output_type": "execute_result"
    }
   ],
   "source": [
    "arr1*arr2"
   ]
  },
  {
   "cell_type": "code",
   "execution_count": 32,
   "id": "9cada9db-d70b-4fc7-a799-113eea5feffc",
   "metadata": {},
   "outputs": [
    {
     "data": {
      "text/plain": [
       "array([[0.88888889, 8.        , 1.75      , 0.125     ],\n",
       "       [1.33333333, 0.83333333, 1.5       , 0.5       ],\n",
       "       [0.8       , 1.33333333, 3.        , 3.        ]])"
      ]
     },
     "execution_count": 32,
     "metadata": {},
     "output_type": "execute_result"
    }
   ],
   "source": [
    "arr1/arr2"
   ]
  },
  {
   "cell_type": "code",
   "execution_count": 33,
   "id": "7aa1aa01-9430-49a6-8512-a1c4659f3239",
   "metadata": {},
   "outputs": [
    {
     "data": {
      "text/plain": [
       "array([[-1,  7,  3, -7],\n",
       "       [ 2, -1,  3, -1],\n",
       "       [-1,  2,  2,  4]], dtype=int32)"
      ]
     },
     "execution_count": 33,
     "metadata": {},
     "output_type": "execute_result"
    }
   ],
   "source": [
    "arr1-arr2"
   ]
  },
  {
   "cell_type": "code",
   "execution_count": 34,
   "id": "ae169e7d-614c-4413-9dc0-4e8c4f549b65",
   "metadata": {},
   "outputs": [
    {
     "data": {
      "text/plain": [
       "array([[8, 0, 3, 1],\n",
       "       [2, 5, 3, 1],\n",
       "       [4, 2, 0, 0]], dtype=int32)"
      ]
     },
     "execution_count": 34,
     "metadata": {},
     "output_type": "execute_result"
    }
   ],
   "source": [
    "arr1%arr2"
   ]
  },
  {
   "cell_type": "code",
   "execution_count": 35,
   "id": "de5cdebb-db94-4214-abee-e700ada41404",
   "metadata": {},
   "outputs": [
    {
     "data": {
      "text/plain": [
       "array([[134217728,         8,      2401,         1],\n",
       "       [   262144,     15625,    531441,         1],\n",
       "       [     1024,    262144,         3,        36]], dtype=int32)"
      ]
     },
     "execution_count": 35,
     "metadata": {},
     "output_type": "execute_result"
    }
   ],
   "source": [
    "arr1 ** arr2"
   ]
  },
  {
   "cell_type": "code",
   "execution_count": 36,
   "id": "ba653204-07f5-48da-a72f-f509378710eb",
   "metadata": {},
   "outputs": [
    {
     "data": {
      "text/plain": [
       "array([[8, 0, 4, 0],\n",
       "       [0, 4, 0, 0],\n",
       "       [4, 0, 1, 2]], dtype=int32)"
      ]
     },
     "execution_count": 36,
     "metadata": {},
     "output_type": "execute_result"
    }
   ],
   "source": [
    "arr1 & arr2"
   ]
  },
  {
   "cell_type": "code",
   "execution_count": 37,
   "id": "ad37e291-4287-4b68-9ab6-601fc32b4956",
   "metadata": {},
   "outputs": [
    {
     "data": {
      "text/plain": [
       "array([[8, 8, 7, 1],\n",
       "       [8, 5, 9, 1],\n",
       "       [4, 8, 3, 6]], dtype=int32)"
      ]
     },
     "execution_count": 37,
     "metadata": {},
     "output_type": "execute_result"
    }
   ],
   "source": [
    "arr1"
   ]
  },
  {
   "cell_type": "code",
   "execution_count": 38,
   "id": "485c49a1-042f-4b25-b9c4-f8700428940f",
   "metadata": {},
   "outputs": [
    {
     "data": {
      "text/plain": [
       "array([[9, 1, 4, 8],\n",
       "       [6, 6, 6, 2],\n",
       "       [5, 6, 1, 2]], dtype=int32)"
      ]
     },
     "execution_count": 38,
     "metadata": {},
     "output_type": "execute_result"
    }
   ],
   "source": [
    "arr2"
   ]
  },
  {
   "cell_type": "code",
   "execution_count": 39,
   "id": "89b215f8-56fd-4120-bea1-7f7f9d0a38b9",
   "metadata": {},
   "outputs": [
    {
     "data": {
      "text/plain": [
       "array([[ -9,  -9,  -8,  -2],\n",
       "       [ -9,  -6, -10,  -2],\n",
       "       [ -5,  -9,  -4,  -7]], dtype=int32)"
      ]
     },
     "execution_count": 39,
     "metadata": {},
     "output_type": "execute_result"
    }
   ],
   "source": [
    "~arr1"
   ]
  },
  {
   "cell_type": "code",
   "execution_count": 40,
   "id": "7e510c77-ee13-4d69-9471-44299248149c",
   "metadata": {},
   "outputs": [
    {
     "data": {
      "text/plain": [
       "array([[ 9,  9,  7,  9],\n",
       "       [14,  7, 15,  3],\n",
       "       [ 5, 14,  3,  6]], dtype=int32)"
      ]
     },
     "execution_count": 40,
     "metadata": {},
     "output_type": "execute_result"
    }
   ],
   "source": [
    "arr1|arr2"
   ]
  },
  {
   "cell_type": "code",
   "execution_count": 41,
   "id": "10a1f04d-2d64-4354-8f7a-089f70f21ab8",
   "metadata": {},
   "outputs": [
    {
     "data": {
      "text/plain": [
       "array([[False,  True,  True, False],\n",
       "       [ True, False,  True, False],\n",
       "       [False,  True,  True,  True]])"
      ]
     },
     "execution_count": 41,
     "metadata": {},
     "output_type": "execute_result"
    }
   ],
   "source": [
    "arr1>arr2"
   ]
  },
  {
   "cell_type": "markdown",
   "id": "0c577286-be78-48f5-84fb-701aa8a66710",
   "metadata": {},
   "source": [
    "# String Functions."
   ]
  },
  {
   "cell_type": "code",
   "execution_count": 65,
   "id": "311e0074-51cc-4ce0-935e-995426b974da",
   "metadata": {},
   "outputs": [
    {
     "data": {
      "text/plain": [
       "array(['SINCHAN', 'PANDA'], dtype='<U7')"
      ]
     },
     "execution_count": 65,
     "metadata": {},
     "output_type": "execute_result"
    }
   ],
   "source": [
    "arr = np.array(['SINCHAN' , \"PANDA\"])\n",
    "arr"
   ]
  },
  {
   "cell_type": "code",
   "execution_count": 66,
   "id": "2920b441-c446-4d67-a92e-f17047b01881",
   "metadata": {},
   "outputs": [
    {
     "data": {
      "text/plain": [
       "array(['SINCHAN', 'PANDA'], dtype='<U7')"
      ]
     },
     "execution_count": 66,
     "metadata": {},
     "output_type": "execute_result"
    }
   ],
   "source": [
    "np.char.upper(arr)"
   ]
  },
  {
   "cell_type": "code",
   "execution_count": 85,
   "id": "03aafa87",
   "metadata": {},
   "outputs": [
    {
     "data": {
      "text/plain": [
       "array(['Hi user, THis A teST STRing'], dtype='<U27')"
      ]
     },
     "execution_count": 85,
     "metadata": {},
     "output_type": "execute_result"
    }
   ],
   "source": [
    "arr = np.array([\"Hi user, THis A teST STRing\"])\n",
    "arr"
   ]
  },
  {
   "cell_type": "code",
   "execution_count": 86,
   "id": "3643e8c8-1ef6-438b-9944-a66d408f58f7",
   "metadata": {},
   "outputs": [
    {
     "data": {
      "text/plain": [
       "array(['Hi User, This A Test String'], dtype='<U27')"
      ]
     },
     "execution_count": 86,
     "metadata": {},
     "output_type": "execute_result"
    }
   ],
   "source": [
    "np.char.title(arr)"
   ]
  },
  {
   "cell_type": "code",
   "execution_count": 87,
   "id": "15e4a766-26e6-4635-a820-af64a00accd7",
   "metadata": {},
   "outputs": [
    {
     "data": {
      "text/plain": [
       "array(['Hi user, this a test string'], dtype='<U27')"
      ]
     },
     "execution_count": 87,
     "metadata": {},
     "output_type": "execute_result"
    }
   ],
   "source": [
    "np.char.capitalize(arr)"
   ]
  },
  {
   "cell_type": "markdown",
   "id": "4be60b9e-a4ac-43a7-bd7a-c5cf4c3f1f29",
   "metadata": {},
   "source": [
    "# Mathematical Functions."
   ]
  },
  {
   "cell_type": "code",
   "execution_count": 88,
   "id": "96bd5e25-ba4c-4f1f-89b9-e5fe6e8c6ae8",
   "metadata": {},
   "outputs": [
    {
     "data": {
      "text/plain": [
       "array([[8, 8, 7, 1],\n",
       "       [8, 5, 9, 1],\n",
       "       [4, 8, 3, 6]], dtype=int32)"
      ]
     },
     "execution_count": 88,
     "metadata": {},
     "output_type": "execute_result"
    }
   ],
   "source": [
    "arr1"
   ]
  },
  {
   "cell_type": "code",
   "execution_count": 89,
   "id": "0a1777e8-0b03-4fd8-9424-3dc1541eef3f",
   "metadata": {},
   "outputs": [
    {
     "data": {
      "text/plain": [
       "array([[ 0.98935825,  0.98935825,  0.6569866 ,  0.84147098],\n",
       "       [ 0.98935825, -0.95892427,  0.41211849,  0.84147098],\n",
       "       [-0.7568025 ,  0.98935825,  0.14112001, -0.2794155 ]])"
      ]
     },
     "execution_count": 89,
     "metadata": {},
     "output_type": "execute_result"
    }
   ],
   "source": [
    "np.sin(arr1)"
   ]
  },
  {
   "cell_type": "code",
   "execution_count": 90,
   "id": "64c4b08b-6a26-41a9-851b-6c9656904bad",
   "metadata": {},
   "outputs": [
    {
     "data": {
      "text/plain": [
       "array([[-0.14550003, -0.14550003,  0.75390225,  0.54030231],\n",
       "       [-0.14550003,  0.28366219, -0.91113026,  0.54030231],\n",
       "       [-0.65364362, -0.14550003, -0.9899925 ,  0.96017029]])"
      ]
     },
     "execution_count": 90,
     "metadata": {},
     "output_type": "execute_result"
    }
   ],
   "source": [
    "np.cos(arr1)"
   ]
  },
  {
   "cell_type": "code",
   "execution_count": 91,
   "id": "70e50bc7-d0d2-4900-a442-9dcd0caf2186",
   "metadata": {},
   "outputs": [
    {
     "data": {
      "text/plain": [
       "array([[-6.79971146, -6.79971146,  0.87144798,  1.55740772],\n",
       "       [-6.79971146, -3.38051501, -0.45231566,  1.55740772],\n",
       "       [ 1.15782128, -6.79971146, -0.14254654, -0.29100619]])"
      ]
     },
     "execution_count": 91,
     "metadata": {},
     "output_type": "execute_result"
    }
   ],
   "source": [
    "np.tan(arr1)"
   ]
  },
  {
   "cell_type": "code",
   "execution_count": 92,
   "id": "f6b6ac01-ca6a-4fce-b51c-6f95fb528c31",
   "metadata": {},
   "outputs": [
    {
     "data": {
      "text/plain": [
       "array([[0.99999977, 0.99999977, 0.99999834, 0.76159416],\n",
       "       [0.99999977, 0.9999092 , 0.99999997, 0.76159416],\n",
       "       [0.9993293 , 0.99999977, 0.99505475, 0.99998771]])"
      ]
     },
     "execution_count": 92,
     "metadata": {},
     "output_type": "execute_result"
    }
   ],
   "source": [
    "np.tanh(arr1)"
   ]
  },
  {
   "cell_type": "code",
   "execution_count": 93,
   "id": "20f6a349-a0e1-463e-990c-b243f053b25f",
   "metadata": {},
   "outputs": [
    {
     "data": {
      "text/plain": [
       "array([[0.90308999, 0.90308999, 0.84509804, 0.        ],\n",
       "       [0.90308999, 0.69897   , 0.95424251, 0.        ],\n",
       "       [0.60205999, 0.90308999, 0.47712125, 0.77815125]])"
      ]
     },
     "execution_count": 93,
     "metadata": {},
     "output_type": "execute_result"
    }
   ],
   "source": [
    "np.log10(arr1)"
   ]
  },
  {
   "cell_type": "code",
   "execution_count": 94,
   "id": "dea1ff7b-1373-462f-95ca-e04cedb7216a",
   "metadata": {},
   "outputs": [
    {
     "data": {
      "text/plain": [
       "array([[2.98095799e+03, 2.98095799e+03, 1.09663316e+03, 2.71828183e+00],\n",
       "       [2.98095799e+03, 1.48413159e+02, 8.10308393e+03, 2.71828183e+00],\n",
       "       [5.45981500e+01, 2.98095799e+03, 2.00855369e+01, 4.03428793e+02]])"
      ]
     },
     "execution_count": 94,
     "metadata": {},
     "output_type": "execute_result"
    }
   ],
   "source": [
    "np.exp(arr1)"
   ]
  },
  {
   "cell_type": "code",
   "execution_count": 95,
   "id": "d4d635ec-b87c-47bd-a5e7-77a9b992c075",
   "metadata": {},
   "outputs": [
    {
     "data": {
      "text/plain": [
       "array([[2.82842712, 2.82842712, 2.64575131, 1.        ],\n",
       "       [2.82842712, 2.23606798, 3.        , 1.        ],\n",
       "       [2.        , 2.82842712, 1.73205081, 2.44948974]])"
      ]
     },
     "execution_count": 95,
     "metadata": {},
     "output_type": "execute_result"
    }
   ],
   "source": [
    "np.sqrt(arr1)"
   ]
  },
  {
   "cell_type": "code",
   "execution_count": 103,
   "id": "64002a24",
   "metadata": {},
   "outputs": [
    {
     "data": {
      "text/plain": [
       "array([[8, 8, 7, 1],\n",
       "       [8, 5, 9, 1],\n",
       "       [4, 8, 3, 6]], dtype=int32)"
      ]
     },
     "execution_count": 103,
     "metadata": {},
     "output_type": "execute_result"
    }
   ],
   "source": [
    "arr1"
   ]
  },
  {
   "cell_type": "code",
   "execution_count": 96,
   "id": "26fc3c49-dfc4-4282-ad9e-3e219f5d2888",
   "metadata": {},
   "outputs": [
    {
     "data": {
      "text/plain": [
       "array([[64, 64, 49,  1],\n",
       "       [64, 25, 81,  1],\n",
       "       [16, 64,  9, 36]], dtype=int32)"
      ]
     },
     "execution_count": 96,
     "metadata": {},
     "output_type": "execute_result"
    }
   ],
   "source": [
    "np.power(arr1,2)"
   ]
  },
  {
   "cell_type": "code",
   "execution_count": 97,
   "id": "7854a41f-3a4d-48b2-8356-a1eff2c1f49c",
   "metadata": {},
   "outputs": [
    {
     "data": {
      "text/plain": [
       "np.float64(5.666666666666667)"
      ]
     },
     "execution_count": 97,
     "metadata": {},
     "output_type": "execute_result"
    }
   ],
   "source": [
    "np.mean(arr1)"
   ]
  },
  {
   "cell_type": "code",
   "execution_count": 98,
   "id": "47964225-57df-46ed-abb4-f09d0554b774",
   "metadata": {},
   "outputs": [
    {
     "data": {
      "text/plain": [
       "np.float64(6.5)"
      ]
     },
     "execution_count": 98,
     "metadata": {},
     "output_type": "execute_result"
    }
   ],
   "source": [
    "np.median(arr1)"
   ]
  },
  {
   "cell_type": "code",
   "execution_count": 99,
   "id": "ef6a5b39-9466-4a1e-a0b1-3d0bde8d9314",
   "metadata": {},
   "outputs": [
    {
     "data": {
      "text/plain": [
       "np.float64(2.718251071716682)"
      ]
     },
     "execution_count": 99,
     "metadata": {},
     "output_type": "execute_result"
    }
   ],
   "source": [
    "np.std(arr1)"
   ]
  },
  {
   "cell_type": "code",
   "execution_count": 100,
   "id": "9fb70efd-6272-484f-9fd8-d578198e8832",
   "metadata": {},
   "outputs": [
    {
     "data": {
      "text/plain": [
       "np.float64(7.388888888888889)"
      ]
     },
     "execution_count": 100,
     "metadata": {},
     "output_type": "execute_result"
    }
   ],
   "source": [
    "np.var(arr1)"
   ]
  },
  {
   "cell_type": "code",
   "execution_count": 101,
   "id": "d8835b5e-0b5b-4e2e-826c-47fdf357266a",
   "metadata": {},
   "outputs": [
    {
     "data": {
      "text/plain": [
       "np.int32(1)"
      ]
     },
     "execution_count": 101,
     "metadata": {},
     "output_type": "execute_result"
    }
   ],
   "source": [
    "np.min(arr1\n",
    "      )"
   ]
  },
  {
   "cell_type": "code",
   "execution_count": 102,
   "id": "6648b623-f9f1-4fb9-9596-41bf22c32635",
   "metadata": {},
   "outputs": [
    {
     "data": {
      "text/plain": [
       "np.int32(9)"
      ]
     },
     "execution_count": 102,
     "metadata": {},
     "output_type": "execute_result"
    }
   ],
   "source": [
    "np.max(arr1)"
   ]
  }
 ],
 "metadata": {
  "kernelspec": {
   "display_name": "Python 3 (ipykernel)",
   "language": "python",
   "name": "python3"
  },
  "language_info": {
   "codemirror_mode": {
    "name": "ipython",
    "version": 3
   },
   "file_extension": ".py",
   "mimetype": "text/x-python",
   "name": "python",
   "nbconvert_exporter": "python",
   "pygments_lexer": "ipython3",
   "version": "3.12.5"
  }
 },
 "nbformat": 4,
 "nbformat_minor": 5
}
