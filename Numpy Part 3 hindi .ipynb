{
 "cells": [
  {
   "cell_type": "markdown",
   "id": "b7f9911e-daa3-4b38-b75c-2efa7672c17f",
   "metadata": {},
   "source": [
    "# Sort, Search & Counting Functions."
   ]
  },
  {
   "cell_type": "code",
   "execution_count": 1,
   "id": "edc9e295-4992-447d-b0fe-6c825ab0c251",
   "metadata": {},
   "outputs": [],
   "source": [
    "import numpy as np"
   ]
  },
  {
   "cell_type": "code",
   "execution_count": 2,
   "id": "3df26a48-811b-4090-86eb-091ceab11c87",
   "metadata": {},
   "outputs": [
    {
     "data": {
      "text/plain": [
       "array([  4,   3,   4,   5,   6,  72,   3,   3, 455,   5,   6,   6])"
      ]
     },
     "execution_count": 2,
     "metadata": {},
     "output_type": "execute_result"
    }
   ],
   "source": [
    "arr = np.array([4,3,4,5,6,72,3,3,455,5,6,6])\n",
    "arr"
   ]
  },
  {
   "cell_type": "code",
   "execution_count": 3,
   "id": "764a8750-a87e-441f-a6de-69bbaaf7437d",
   "metadata": {},
   "outputs": [
    {
     "data": {
      "text/plain": [
       "array([  3,   3,   3,   4,   4,   5,   5,   6,   6,   6,  72, 455])"
      ]
     },
     "execution_count": 3,
     "metadata": {},
     "output_type": "execute_result"
    }
   ],
   "source": [
    "np.sort(arr)"
   ]
  },
  {
   "cell_type": "markdown",
   "id": "bfe49353",
   "metadata": {},
   "source": [
    " The numpy.searchsorted() function is used to find the indices at which elements should be inserted to maintain order in a sorted array. This is particularly useful when you need to efficiently determine the position of elements in a sorted array without having to perform a full search."
   ]
  },
  {
   "cell_type": "code",
   "execution_count": 4,
   "id": "2d152f34-07b4-4980-8904-af171ec8d221",
   "metadata": {},
   "outputs": [
    {
     "data": {
      "text/plain": [
       "np.int64(12)"
      ]
     },
     "execution_count": 4,
     "metadata": {},
     "output_type": "execute_result"
    }
   ],
   "source": [
    "np.searchsorted(arr ,34)"
   ]
  },
  {
   "cell_type": "code",
   "execution_count": 5,
   "id": "a417523f-74f0-4c73-8ee1-087157761742",
   "metadata": {},
   "outputs": [],
   "source": [
    "arr1 = np.array([0,345,454,0,0,0,0,0])"
   ]
  },
  {
   "cell_type": "code",
   "execution_count": 6,
   "id": "a5bef365-16dd-48cf-9138-3179de26d81b",
   "metadata": {},
   "outputs": [
    {
     "data": {
      "text/plain": [
       "2"
      ]
     },
     "execution_count": 6,
     "metadata": {},
     "output_type": "execute_result"
    }
   ],
   "source": [
    "np.count_nonzero(arr1)"
   ]
  },
  {
   "cell_type": "code",
   "execution_count": 7,
   "id": "e66e1c37-2e86-4210-8e45-2399943cd78a",
   "metadata": {},
   "outputs": [
    {
     "data": {
      "text/plain": [
       "array([  4,   3,   4,   5,   6,  72,   3,   3, 455,   5,   6,   6])"
      ]
     },
     "execution_count": 7,
     "metadata": {},
     "output_type": "execute_result"
    }
   ],
   "source": [
    "arr"
   ]
  },
  {
   "cell_type": "markdown",
   "id": "b6036fe1",
   "metadata": {},
   "source": [
    "The numpy.where() function is a versatile utility that returns the indices of elements in an array that satisfy a certain condition. It can also be used to select elements from two arrays based on a condition.\n",
    "\n",
    "numpy.where(condition, [x, y])\n",
    "\n",
    "condition: An array-like object or condition that specifies where to find the elements.\n",
    "\n",
    "x (optional): An array or value to select where condition is True.\n",
    "\n",
    "y (optional): An array or value to select where condition is False"
   ]
  },
  {
   "cell_type": "code",
   "execution_count": 8,
   "id": "8704a004-f9ad-49fb-8007-ea0d844c834d",
   "metadata": {},
   "outputs": [
    {
     "data": {
      "text/plain": [
       "(array([5, 8]),)"
      ]
     },
     "execution_count": 8,
     "metadata": {},
     "output_type": "execute_result"
    }
   ],
   "source": [
    "np.where(arr > 6)"
   ]
  },
  {
   "cell_type": "markdown",
   "id": "315793b5",
   "metadata": {},
   "source": [
    "#### Extract based on condition"
   ]
  },
  {
   "cell_type": "code",
   "execution_count": 9,
   "id": "f3839e16-8b08-4e54-9621-35085e38689c",
   "metadata": {},
   "outputs": [
    {
     "data": {
      "text/plain": [
       "array([  4,   4,   5,   6,  72, 455,   5,   6,   6])"
      ]
     },
     "execution_count": 9,
     "metadata": {},
     "output_type": "execute_result"
    }
   ],
   "source": [
    "np.extract(arr>3 , arr)"
   ]
  },
  {
   "cell_type": "markdown",
   "id": "6904916f-4257-416b-b13c-6338c5c888ac",
   "metadata": {},
   "source": [
    "# Byte Swapping."
   ]
  },
  {
   "cell_type": "code",
   "execution_count": 11,
   "id": "34ade5f2-16d6-4416-8e55-a174283eaf93",
   "metadata": {},
   "outputs": [
    {
     "data": {
      "text/plain": [
       "array([  4,   3,   4,   5,   6,  72,   3,   3, 455,   5,   6,   6])"
      ]
     },
     "execution_count": 11,
     "metadata": {},
     "output_type": "execute_result"
    }
   ],
   "source": [
    "arr"
   ]
  },
  {
   "cell_type": "code",
   "execution_count": 12,
   "id": "80e0692d-74d1-49d1-b262-6567a73dc04a",
   "metadata": {},
   "outputs": [
    {
     "data": {
      "text/plain": [
       "array([  288230376151711744,   216172782113783808,   288230376151711744,\n",
       "         360287970189639680,   432345564227567616,  5188146770730811392,\n",
       "         216172782113783808,   216172782113783808, -4107001385185181696,\n",
       "         360287970189639680,   432345564227567616,   432345564227567616])"
      ]
     },
     "execution_count": 12,
     "metadata": {},
     "output_type": "execute_result"
    }
   ],
   "source": [
    "arr.byteswap()"
   ]
  },
  {
   "cell_type": "markdown",
   "id": "9efa9985-a908-4a8e-a31c-9b2d995299dd",
   "metadata": {},
   "source": [
    "# Copies & Views.\n",
    "\n",
    "1. Copy\n",
    "Definition: A copy is a new array that is a separate entity from the original array. Changes to the copy do not affect the original array, and vice versa.\n",
    "\n",
    "\n",
    "Characteristics:\n",
    "\n",
    "Independent: Modifications to a copy do not affect the original array and vice versa.\n",
    "\n",
    "Memory: A copy uses additional memory because it stores a separate, full copy of the data.\n",
    "\n",
    "Performance: Creating a copy involves additional overhead due to memory allocation and data copying.\n",
    "\n",
    "2. View\n",
    "Definition: A view is a new array object that looks at the same data as the original array. Changes to the view will affect the original array, and changes to the original array will reflect in the view.\n",
    "\n",
    "\n",
    "\n",
    "Characteristics:\n",
    "\n",
    "Shared Data: Both the view and the original array share the same data buffer. Changes to one affect the other.\n",
    "\n",
    "Memory: Views are generally more memory-efficient because they do not require copying the data; they merely reference the original data.\n",
    "\n",
    "Performance: Operations involving views are often faster as they avoid the overhead of copying data."
   ]
  },
  {
   "cell_type": "code",
   "execution_count": 14,
   "id": "fccc4556-dcf9-41a7-b110-a4d327f5fbc3",
   "metadata": {},
   "outputs": [
    {
     "data": {
      "text/plain": [
       "array([  4,   3,   4,   5,   6,  72,   3,   3, 455,   5,   6,   6])"
      ]
     },
     "execution_count": 14,
     "metadata": {},
     "output_type": "execute_result"
    }
   ],
   "source": [
    "arr"
   ]
  },
  {
   "cell_type": "code",
   "execution_count": 15,
   "id": "5fe66ca0-4b5d-4fd3-bbcc-57c6aea85808",
   "metadata": {},
   "outputs": [],
   "source": [
    "a = np.copy(arr)"
   ]
  },
  {
   "cell_type": "code",
   "execution_count": 16,
   "id": "6ac732eb-5e60-4742-99a4-dd65c87a8e1b",
   "metadata": {},
   "outputs": [],
   "source": [
    "b = arr.view()"
   ]
  },
  {
   "cell_type": "code",
   "execution_count": 17,
   "id": "f4e717f2-fa54-4047-bc90-b680a17703d1",
   "metadata": {},
   "outputs": [],
   "source": [
    "b = arr"
   ]
  },
  {
   "cell_type": "code",
   "execution_count": 18,
   "id": "bdce87eb-fb9d-4777-ab05-908c919e978c",
   "metadata": {},
   "outputs": [
    {
     "data": {
      "text/plain": [
       "array([  4,   3,   4,   5,   6,  72,   3,   3, 455,   5,   6,   6])"
      ]
     },
     "execution_count": 18,
     "metadata": {},
     "output_type": "execute_result"
    }
   ],
   "source": [
    "b"
   ]
  },
  {
   "cell_type": "code",
   "execution_count": 19,
   "id": "a0a1131d-09c1-45a0-818d-e43956c13a6c",
   "metadata": {},
   "outputs": [
    {
     "data": {
      "text/plain": [
       "array([  4,   3,   4,   5,   6,  72,   3,   3, 455,   5,   6,   6])"
      ]
     },
     "execution_count": 19,
     "metadata": {},
     "output_type": "execute_result"
    }
   ],
   "source": [
    "arr"
   ]
  },
  {
   "cell_type": "code",
   "execution_count": 20,
   "id": "43725e09-8ba4-42c6-90a5-405c8778c3df",
   "metadata": {},
   "outputs": [],
   "source": [
    "b[0] = 67"
   ]
  },
  {
   "cell_type": "code",
   "execution_count": 21,
   "id": "4b44653a-dea3-493a-bcf8-fa2b081e9ba4",
   "metadata": {},
   "outputs": [
    {
     "data": {
      "text/plain": [
       "array([ 67,   3,   4,   5,   6,  72,   3,   3, 455,   5,   6,   6])"
      ]
     },
     "execution_count": 21,
     "metadata": {},
     "output_type": "execute_result"
    }
   ],
   "source": [
    "b"
   ]
  },
  {
   "cell_type": "code",
   "execution_count": 22,
   "id": "7215c2ca-3944-4c52-a0b8-cd8de6b5a7d5",
   "metadata": {},
   "outputs": [
    {
     "data": {
      "text/plain": [
       "array([ 67,   3,   4,   5,   6,  72,   3,   3, 455,   5,   6,   6])"
      ]
     },
     "execution_count": 22,
     "metadata": {},
     "output_type": "execute_result"
    }
   ],
   "source": [
    "arr"
   ]
  },
  {
   "cell_type": "markdown",
   "id": "65037e45-8037-4704-a822-24923171b621",
   "metadata": {},
   "source": [
    "# Matrix Library.\n",
    "\n",
    "Similar like numpy arrays. Instead of array it creats MATRIX directly"
   ]
  },
  {
   "cell_type": "code",
   "execution_count": 24,
   "id": "c88de0e4-8e91-4c17-9c2c-b03799c45452",
   "metadata": {},
   "outputs": [],
   "source": [
    "import numpy.matlib as nm"
   ]
  },
  {
   "cell_type": "code",
   "execution_count": 25,
   "id": "b1fd0920-6849-4e30-97c4-a8d663a6c248",
   "metadata": {},
   "outputs": [
    {
     "data": {
      "text/plain": [
       "matrix([[0., 0., 0., 0., 0.]])"
      ]
     },
     "execution_count": 25,
     "metadata": {},
     "output_type": "execute_result"
    }
   ],
   "source": [
    "nm.zeros(5\n",
    "        )"
   ]
  },
  {
   "cell_type": "code",
   "execution_count": 26,
   "id": "02ea015d-707b-401f-a298-6f47b111f893",
   "metadata": {},
   "outputs": [
    {
     "data": {
      "text/plain": [
       "matrix([[1., 1., 1., 1.],\n",
       "        [1., 1., 1., 1.],\n",
       "        [1., 1., 1., 1.]])"
      ]
     },
     "execution_count": 26,
     "metadata": {},
     "output_type": "execute_result"
    }
   ],
   "source": [
    "nm.ones((3,4))"
   ]
  },
  {
   "cell_type": "code",
   "execution_count": 27,
   "id": "19d2adbf-e996-4f0d-b3dc-28d3d5849514",
   "metadata": {},
   "outputs": [
    {
     "data": {
      "text/plain": [
       "matrix([[1., 0., 0., 0., 0.],\n",
       "        [0., 1., 0., 0., 0.],\n",
       "        [0., 0., 1., 0., 0.],\n",
       "        [0., 0., 0., 1., 0.],\n",
       "        [0., 0., 0., 0., 1.]])"
      ]
     },
     "execution_count": 27,
     "metadata": {},
     "output_type": "execute_result"
    }
   ],
   "source": [
    "nm.eye(5)"
   ]
  },
  {
   "cell_type": "markdown",
   "id": "3b6d62bb-4a48-4be8-96e9-35a5ea9b2498",
   "metadata": {},
   "source": [
    "# Linear Algebra"
   ]
  },
  {
   "cell_type": "code",
   "execution_count": 32,
   "id": "51c3cada-96bf-4b5f-b937-a4782dc8d48a",
   "metadata": {},
   "outputs": [],
   "source": [
    "arr1 = np.random.randint([[2,3] , [4,5]])"
   ]
  },
  {
   "cell_type": "code",
   "execution_count": 33,
   "id": "a160ada2-614c-4afb-b736-0774c90a99d9",
   "metadata": {},
   "outputs": [],
   "source": [
    "arr2 = np.random.randint([[5,3] , [2,5]])\n"
   ]
  },
  {
   "cell_type": "code",
   "execution_count": 35,
   "id": "18112620-e2a8-4e9a-884b-db6298f457a7",
   "metadata": {},
   "outputs": [
    {
     "data": {
      "text/plain": [
       "array([[ 2,  9],\n",
       "       [ 2, 17]], dtype=int32)"
      ]
     },
     "execution_count": 35,
     "metadata": {},
     "output_type": "execute_result"
    }
   ],
   "source": [
    "np.dot(arr1, arr2)"
   ]
  },
  {
   "cell_type": "code",
   "execution_count": 36,
   "id": "bed335d4",
   "metadata": {},
   "outputs": [
    {
     "name": "stderr",
     "output_type": "stream",
     "text": [
      "C:\\Users\\sinch\\AppData\\Local\\Temp\\ipykernel_67876\\1019698839.py:1: DeprecationWarning: Arrays of 2-dimensional vectors are deprecated. Use arrays of 3-dimensional vectors instead. (deprecated in NumPy 2.0)\n",
      "  np.cross(arr1, arr2)\n"
     ]
    },
    {
     "data": {
      "text/plain": [
       "array([-3,  4], dtype=int32)"
      ]
     },
     "execution_count": 36,
     "metadata": {},
     "output_type": "execute_result"
    }
   ],
   "source": [
    "np.cross(arr1, arr2)"
   ]
  }
 ],
 "metadata": {
  "kernelspec": {
   "display_name": "Python 3 (ipykernel)",
   "language": "python",
   "name": "python3"
  },
  "language_info": {
   "codemirror_mode": {
    "name": "ipython",
    "version": 3
   },
   "file_extension": ".py",
   "mimetype": "text/x-python",
   "name": "python",
   "nbconvert_exporter": "python",
   "pygments_lexer": "ipython3",
   "version": "3.12.5"
  }
 },
 "nbformat": 4,
 "nbformat_minor": 5
}
